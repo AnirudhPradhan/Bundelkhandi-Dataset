{
 "cells": [
  {
   "cell_type": "code",
   "execution_count": 7,
   "metadata": {},
   "outputs": [],
   "source": [
    "from pyannote.audio import Pipeline\n",
    "from pyannote.audio.utils.powerset import Powerset\n",
    "import os"
   ]
  },
  {
   "cell_type": "code",
   "execution_count": null,
   "metadata": {},
   "outputs": [
    {
     "name": "stderr",
     "output_type": "stream",
     "text": [
      "d:\\final karya\\myenv\\Lib\\site-packages\\tqdm\\auto.py:21: TqdmWarning: IProgress not found. Please update jupyter and ipywidgets. See https://ipywidgets.readthedocs.io/en/stable/user_install.html\n",
      "  from .autonotebook import tqdm as notebook_tqdm\n"
     ]
    }
   ],
   "source": [
    "batch_size = 3"
   ]
  },
  {
   "cell_type": "code",
   "execution_count": 8,
   "metadata": {},
   "outputs": [],
   "source": [
    "hf_token = os.environ.get('HF_TOKEN')"
   ]
  },
  {
   "cell_type": "code",
   "execution_count": null,
   "metadata": {},
   "outputs": [
    {
     "name": "stderr",
     "output_type": "stream",
     "text": [
      "INFO:speechbrain.utils.quirks:Applied quirks (see `speechbrain.utils.quirks`): [allow_tf32, disable_jit_profiling]\n",
      "INFO:speechbrain.utils.quirks:Excluded quirks specified by the `SB_DISABLE_QUIRKS` environment (comma-separated list): []\n",
      "C:\\Users\\anipr\\AppData\\Local\\Programs\\Python\\Python312\\Lib\\inspect.py:1001: UserWarning: Module 'speechbrain.pretrained' was deprecated, redirecting to 'speechbrain.inference'. Please update your script. This is a change from SpeechBrain 1.0. See: https://github.com/speechbrain/speechbrain/releases/tag/v1.0.0\n",
      "  if ismodule(module) and hasattr(module, '__file__'):\n",
      "d:\\final karya\\myenv\\Lib\\site-packages\\pyannote\\audio\\models\\blocks\\pooling.py:104: UserWarning: std(): degrees of freedom is <= 0. Correction should be strictly less than the reduction factor (input numel divided by output numel). (Triggered internally at C:\\actions-runner\\_work\\pytorch\\pytorch\\pytorch\\aten\\src\\ATen\\native\\ReduceOps.cpp:1831.)\n",
      "  std = sequences.std(dim=-1, correction=1)\n"
     ]
    }
   ],
   "source": [
    "pipeline = Pipeline.from_pretrained(\n",
    "  \"pyannote/speaker-diarization-3.1\",\n",
    "  use_auth_token=True)\n",
    "\n",
    "diarization = pipeline(\"outputs/videoplayback.wav\")"
   ]
  },
  {
   "cell_type": "code",
   "execution_count": 6,
   "metadata": {},
   "outputs": [
    {
     "name": "stdout",
     "output_type": "stream",
     "text": [
      "Total speakers: 5\n",
      "Speech duration: 199.0s\n",
      "Speaker distribution:\n",
      "[('SPEAKER_03', 75.38062500000004), ('SPEAKER_04', 66.55500000000004), ('SPEAKER_00', 32.02874999999999), ('SPEAKER_01', 16.368750000000006), ('SPEAKER_02', 9.348749999999995)]\n",
      "Speaker SPEAKER_03 spoke from 0.0s to 0.6s\n",
      "Speaker SPEAKER_03 spoke from 1.2s to 5.5s\n",
      "Speaker SPEAKER_04 spoke from 5.9s to 8.4s\n",
      "Speaker SPEAKER_04 spoke from 16.0s to 18.6s\n",
      "Speaker SPEAKER_04 spoke from 19.4s to 20.2s\n",
      "Speaker SPEAKER_04 spoke from 22.9s to 24.3s\n",
      "Speaker SPEAKER_04 spoke from 30.7s to 31.5s\n",
      "Speaker SPEAKER_04 spoke from 34.8s to 38.0s\n",
      "Speaker SPEAKER_00 spoke from 35.4s to 35.5s\n",
      "Speaker SPEAKER_04 spoke from 39.9s to 40.7s\n",
      "Speaker SPEAKER_04 spoke from 45.1s to 47.0s\n",
      "Speaker SPEAKER_03 spoke from 47.0s to 48.0s\n",
      "Speaker SPEAKER_04 spoke from 48.0s to 48.3s\n",
      "Speaker SPEAKER_04 spoke from 49.1s to 50.9s\n",
      "Speaker SPEAKER_03 spoke from 55.0s to 56.2s\n",
      "Speaker SPEAKER_03 spoke from 57.7s to 59.0s\n",
      "Speaker SPEAKER_03 spoke from 59.5s to 64.4s\n",
      "Speaker SPEAKER_04 spoke from 69.0s to 69.0s\n",
      "Speaker SPEAKER_03 spoke from 69.0s to 69.5s\n",
      "Speaker SPEAKER_03 spoke from 71.7s to 75.2s\n",
      "Speaker SPEAKER_03 spoke from 75.6s to 75.6s\n",
      "Speaker SPEAKER_04 spoke from 75.6s to 75.6s\n",
      "Speaker SPEAKER_03 spoke from 75.6s to 75.6s\n",
      "Speaker SPEAKER_04 spoke from 75.6s to 75.8s\n",
      "Speaker SPEAKER_03 spoke from 75.8s to 75.9s\n",
      "Speaker SPEAKER_04 spoke from 75.9s to 75.9s\n",
      "Speaker SPEAKER_03 spoke from 75.9s to 76.0s\n",
      "Speaker SPEAKER_04 spoke from 76.0s to 76.5s\n",
      "Speaker SPEAKER_03 spoke from 76.5s to 76.6s\n",
      "Speaker SPEAKER_04 spoke from 76.6s to 76.8s\n",
      "Speaker SPEAKER_03 spoke from 76.8s to 77.0s\n",
      "Speaker SPEAKER_04 spoke from 77.0s to 84.1s\n",
      "Speaker SPEAKER_03 spoke from 84.3s to 90.8s\n",
      "Speaker SPEAKER_04 spoke from 90.8s to 94.3s\n",
      "Speaker SPEAKER_03 spoke from 94.0s to 94.1s\n",
      "Speaker SPEAKER_03 spoke from 94.3s to 94.3s\n",
      "Speaker SPEAKER_04 spoke from 94.3s to 96.3s\n",
      "Speaker SPEAKER_04 spoke from 96.5s to 97.7s\n",
      "Speaker SPEAKER_04 spoke from 98.0s to 98.5s\n",
      "Speaker SPEAKER_04 spoke from 99.1s to 101.5s\n",
      "Speaker SPEAKER_04 spoke from 102.1s to 106.9s\n",
      "Speaker SPEAKER_03 spoke from 107.1s to 117.0s\n",
      "Speaker SPEAKER_04 spoke from 117.0s to 118.1s\n",
      "Speaker SPEAKER_04 spoke from 118.6s to 120.5s\n",
      "Speaker SPEAKER_03 spoke from 122.9s to 122.9s\n",
      "Speaker SPEAKER_02 spoke from 122.9s to 126.2s\n",
      "Speaker SPEAKER_02 spoke from 126.5s to 132.4s\n",
      "Speaker SPEAKER_04 spoke from 139.9s to 144.4s\n",
      "Speaker SPEAKER_01 spoke from 155.0s to 156.0s\n",
      "Speaker SPEAKER_01 spoke from 157.1s to 160.0s\n",
      "Speaker SPEAKER_01 spoke from 160.3s to 163.3s\n",
      "Speaker SPEAKER_01 spoke from 163.9s to 165.9s\n",
      "Speaker SPEAKER_01 spoke from 166.6s to 168.6s\n",
      "Speaker SPEAKER_01 spoke from 169.4s to 171.6s\n",
      "Speaker SPEAKER_01 spoke from 172.4s to 173.1s\n",
      "Speaker SPEAKER_01 spoke from 173.8s to 174.2s\n",
      "Speaker SPEAKER_01 spoke from 174.9s to 177.0s\n",
      "Speaker SPEAKER_00 spoke from 177.9s to 183.4s\n",
      "Speaker SPEAKER_00 spoke from 183.7s to 186.6s\n",
      "Speaker SPEAKER_03 spoke from 186.8s to 189.1s\n",
      "Speaker SPEAKER_00 spoke from 189.3s to 192.1s\n",
      "Speaker SPEAKER_03 spoke from 192.4s to 193.3s\n",
      "Speaker SPEAKER_03 spoke from 193.7s to 195.9s\n",
      "Speaker SPEAKER_03 spoke from 196.1s to 197.4s\n",
      "Speaker SPEAKER_03 spoke from 197.9s to 198.9s\n",
      "Speaker SPEAKER_03 spoke from 199.0s to 199.9s\n",
      "Speaker SPEAKER_03 spoke from 200.0s to 205.0s\n",
      "Speaker SPEAKER_00 spoke from 205.2s to 211.7s\n",
      "Speaker SPEAKER_03 spoke from 211.8s to 214.5s\n",
      "Speaker SPEAKER_03 spoke from 215.3s to 218.5s\n",
      "Speaker SPEAKER_00 spoke from 218.8s to 227.0s\n",
      "Speaker SPEAKER_03 spoke from 227.0s to 229.6s\n",
      "Speaker SPEAKER_03 spoke from 230.8s to 232.6s\n",
      "Speaker SPEAKER_04 spoke from 232.6s to 232.6s\n",
      "Speaker SPEAKER_00 spoke from 233.2s to 239.2s\n",
      "Speaker SPEAKER_04 spoke from 239.2s to 240.9s\n",
      "Speaker SPEAKER_04 spoke from 252.9s to 252.9s\n",
      "Speaker SPEAKER_03 spoke from 252.9s to 254.6s\n",
      "Speaker SPEAKER_03 spoke from 255.2s to 257.3s\n",
      "Speaker SPEAKER_03 spoke from 258.2s to 261.5s\n",
      "Speaker SPEAKER_04 spoke from 260.4s to 260.8s\n",
      "Speaker SPEAKER_04 spoke from 261.6s to 264.8s\n",
      "Speaker SPEAKER_04 spoke from 265.2s to 267.1s\n",
      "Speaker SPEAKER_04 spoke from 267.6s to 271.9s\n",
      "Speaker SPEAKER_03 spoke from 272.3s to 272.3s\n",
      "Speaker SPEAKER_04 spoke from 272.3s to 272.3s\n",
      "Speaker SPEAKER_03 spoke from 272.3s to 274.3s\n",
      "Speaker SPEAKER_03 spoke from 274.5s to 276.2s\n",
      "Speaker SPEAKER_03 spoke from 276.5s to 279.2s\n",
      "Speaker SPEAKER_03 spoke from 279.6s to 280.4s\n",
      "Speaker SPEAKER_03 spoke from 280.8s to 281.9s\n",
      "Speaker SPEAKER_04 spoke from 284.0s to 284.3s\n",
      "Speaker SPEAKER_04 spoke from 285.1s to 286.3s\n",
      "Speaker SPEAKER_04 spoke from 287.1s to 289.8s\n",
      "Speaker SPEAKER_04 spoke from 290.0s to 292.5s\n",
      "Speaker SPEAKER_03 spoke from 292.8s to 294.5s\n",
      "Speaker SPEAKER_04 spoke from 296.1s to 296.9s\n",
      "Speaker SPEAKER_04 spoke from 297.1s to 298.2s\n"
     ]
    }
   ],
   "source": [
    "# Basic information\n",
    "print(f\"Total speakers: {len(diarization.labels())}\")\n",
    "print(f\"Speech duration: {diarization.get_timeline().duration():.1f}s\")\n",
    "print(f\"Speaker distribution:\\n{diarization.chart()}\")\n",
    "\n",
    "# Detailed segment inspection\n",
    "for segment, track, speaker in diarization.itertracks(yield_label=True):\n",
    "    print(f\"Speaker {speaker} spoke from {segment.start:.1f}s to {segment.end:.1f}s\")\n"
   ]
  }
 ],
 "metadata": {
  "kernelspec": {
   "display_name": "myenv",
   "language": "python",
   "name": "python3"
  },
  "language_info": {
   "codemirror_mode": {
    "name": "ipython",
    "version": 3
   },
   "file_extension": ".py",
   "mimetype": "text/x-python",
   "name": "python",
   "nbconvert_exporter": "python",
   "pygments_lexer": "ipython3",
   "version": "3.12.4"
  }
 },
 "nbformat": 4,
 "nbformat_minor": 2
}

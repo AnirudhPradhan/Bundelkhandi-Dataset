{
 "cells": [
  {
   "cell_type": "code",
   "execution_count": null,
   "metadata": {},
   "outputs": [
    {
     "name": "stdout",
     "output_type": "stream",
     "text": [
      "Requirement already satisfied: numpy<=2.1 in .\\myenv\\lib\\site-packages (2.1.0)\n"
     ]
    }
   ],
   "source": [
    "! pip install \"numpy<=2.1\" # will be requiring as librosa is not compatible with numpy 2.2"
   ]
  },
  {
   "cell_type": "code",
   "execution_count": 3,
   "metadata": {},
   "outputs": [
    {
     "name": "stderr",
     "output_type": "stream",
     "text": [
      "d:\\final karya\\myenv\\Lib\\site-packages\\tqdm\\auto.py:21: TqdmWarning: IProgress not found. Please update jupyter and ipywidgets. See https://ipywidgets.readthedocs.io/en/stable/user_install.html\n",
      "  from .autonotebook import tqdm as notebook_tqdm\n"
     ]
    }
   ],
   "source": [
    "from pyannote.audio import Pipeline\n",
    "from transformers import pipeline\n",
    "from indicnlp.normalize.indic_normalize import IndicNormalizerFactory\n",
    "import librosa\n",
    "import os\n",
    "from indicnlp.normalize.indic_normalize import DevanagariNormalizer"
   ]
  },
  {
   "cell_type": "code",
   "execution_count": 4,
   "metadata": {},
   "outputs": [],
   "source": [
    "hf_token = os.environ.get('HF_TOKEN')"
   ]
  },
  {
   "cell_type": "code",
   "execution_count": 5,
   "metadata": {},
   "outputs": [
    {
     "name": "stderr",
     "output_type": "stream",
     "text": [
      "INFO:speechbrain.utils.quirks:Applied quirks (see `speechbrain.utils.quirks`): [disable_jit_profiling, allow_tf32]\n",
      "INFO:speechbrain.utils.quirks:Excluded quirks specified by the `SB_DISABLE_QUIRKS` environment (comma-separated list): []\n",
      "C:\\Users\\anipr\\AppData\\Local\\Programs\\Python\\Python312\\Lib\\inspect.py:1001: UserWarning: Module 'speechbrain.pretrained' was deprecated, redirecting to 'speechbrain.inference'. Please update your script. This is a change from SpeechBrain 1.0. See: https://github.com/speechbrain/speechbrain/releases/tag/v1.0.0\n",
      "  if ismodule(module) and hasattr(module, '__file__'):\n",
      "d:\\final karya\\myenv\\Lib\\site-packages\\pyannote\\audio\\models\\blocks\\pooling.py:104: UserWarning: std(): degrees of freedom is <= 0. Correction should be strictly less than the reduction factor (input numel divided by output numel). (Triggered internally at C:\\actions-runner\\_work\\pytorch\\pytorch\\pytorch\\aten\\src\\ATen\\native\\ReduceOps.cpp:1831.)\n",
      "  std = sequences.std(dim=-1, correction=1)\n"
     ]
    }
   ],
   "source": [
    "diarization_pipeline = Pipeline.from_pretrained(\n",
    "    \"pyannote/speaker-diarization-3.1\",\n",
    "    use_auth_token=hf_token )\n",
    "audio_file= \"outputs/videoplayback.wav\"\n",
    "diarization = diarization_pipeline(audio_file)"
   ]
  },
  {
   "cell_type": "code",
   "execution_count": 6,
   "metadata": {},
   "outputs": [
    {
     "name": "stderr",
     "output_type": "stream",
     "text": [
      "Device set to use cpu\n"
     ]
    }
   ],
   "source": [
    "whisper_asr = pipeline(\n",
    "    \"automatic-speech-recognition\",\n",
    "    model=\"openai/whisper-large-v2\",\n",
    ")\n",
    "indic_factory = IndicNormalizerFactory()\n",
    "normalizer = DevanagariNormalizer(\n",
    "    lang='hi',\n",
    "    remove_nuktas=False,\n",
    "    nasals_mode='do_nothing',\n",
    "    do_normalize_chandras=False,\n",
    "    do_normalize_vowel_ending=False\n",
    ")"
   ]
  },
  {
   "cell_type": "code",
   "execution_count": null,
   "metadata": {},
   "outputs": [
    {
     "name": "stderr",
     "output_type": "stream",
     "text": [
      "Whisper did not predict an ending timestamp, which can happen if audio is cut off in the middle of a word. Also make sure WhisperTimeStampLogitsProcessor was used during generation.\n"
     ]
    }
   ],
   "source": [
    "transcript = []\n",
    "for segment, _, speaker in diarization.itertracks(yield_label=True):\n",
    "    \n",
    "            # Load audio segment\n",
    "            audio, sr = librosa.load(\n",
    "                \"outputs/videoplayback.wav\",\n",
    "                sr=16000,\n",
    "                offset=segment.start,\n",
    "                duration=segment.duration,\n",
    "                mono=True\n",
    "            )\n",
    "\n",
    "            # Perform ASR on the segment\n",
    "            result = whisper_asr(\n",
    "                audio,\n",
    "                return_timestamps=True\n",
    "            )\n",
    "\n",
    "            # Extract text from the result\n",
    "            text = result[\"text\"]\n",
    "\n",
    "            # Normalize text if needed\n",
    "            indic_factory = IndicNormalizerFactory()\n",
    "            normalizer = indic_factory.get_normalizer(\"hi\")\n",
    "            text = normalizer.normalize(text)\n",
    "            \n",
    "            # Append segment information to the transcript\n",
    "            transcript.append({\n",
    "                \"speaker\": speaker,\n",
    "                \"start\": float(segment.start),\n",
    "                \"end\": float(segment.end),\n",
    "                \"text\": text\n",
    "            })\n"
   ]
  },
  {
   "cell_type": "code",
   "execution_count": null,
   "metadata": {},
   "outputs": [],
   "source": [
    "transcript"
   ]
  }
 ],
 "metadata": {
  "kernelspec": {
   "display_name": "myenv",
   "language": "python",
   "name": "python3"
  },
  "language_info": {
   "codemirror_mode": {
    "name": "ipython",
    "version": 3
   },
   "file_extension": ".py",
   "mimetype": "text/x-python",
   "name": "python",
   "nbconvert_exporter": "python",
   "pygments_lexer": "ipython3",
   "version": "3.12.4"
  }
 },
 "nbformat": 4,
 "nbformat_minor": 2
}
